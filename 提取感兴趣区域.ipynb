{
 "cells": [
  {
   "cell_type": "code",
   "execution_count": 7,
   "metadata": {},
   "outputs": [],
   "source": [
    "#! pip3 install nibabel\n",
    "import nibabel as nib\n",
    "import os\n",
    "import numpy as np"
   ]
  },
  {
   "cell_type": "code",
   "execution_count": 8,
   "metadata": {},
   "outputs": [],
   "source": [
    "basePath='/Users/chenyu/Desktop/Medical paper/test'\n",
    "atlasPath=os.path.join(basePath,'HarvardOxford-cort-maxprob-thr50-2mm.nii')"
   ]
  },
  {
   "cell_type": "code",
   "execution_count": 11,
   "metadata": {},
   "outputs": [],
   "source": [
    "roi_index=5  #提取的画好的整体roi中的第五部分roi\n",
    "atlas_nii=nib.load(atlasPath)#加载该影像\n",
    "atlas_arr=atlas_nii.get_fdata()#获取该影像的矩阵数值\n",
    "mask_arr=atlas_arr.copy()\n",
    "mask_arr[atlas_arr!=roi_index]=0 #将不是想提取的roi区域矩阵设置为0\n",
    "mask_arr[atlas_arr == roi_index] = 1  # 将想提取的roi区域矩阵设置为1 即保留\n",
    "mask_affine=atlas_nii.affine.copy()#将影像的仿射射深拷贝给mask\n",
    "mask_header=atlas_nii.header.copy()  # 将影像的头文件深拷贝给mask\n",
    "mask_header['cal_max']=1#将头文件中的cal_max设置为1（也就是灰阶范围/窗宽），方便软件设置\n",
    "mask_nii=nib.Nifti1Image(mask_arr,mask_affine,mask_header)#将矩阵，仿射，头文件封装\n",
    "nib.save(mask_nii,os.path.join(basePath,'roi_'+str(roi_index)+'.nii.gz'))#保存输出"
   ]
  }
 ],
 "metadata": {
  "kernelspec": {
   "display_name": "Python 3",
   "language": "python",
   "name": "python3"
  },
  "language_info": {
   "codemirror_mode": {
    "name": "ipython",
    "version": 3
   },
   "file_extension": ".py",
   "mimetype": "text/x-python",
   "name": "python",
   "nbconvert_exporter": "python",
   "pygments_lexer": "ipython3",
   "version": "3.10.8"
  },
  "orig_nbformat": 4,
  "vscode": {
   "interpreter": {
    "hash": "aee8b7b246df8f9039afb4144a1f6fd8d2ca17a180786b69acc140d282b71a49"
   }
  }
 },
 "nbformat": 4,
 "nbformat_minor": 2
}
