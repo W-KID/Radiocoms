{
 "cells": [
  {
   "cell_type": "code",
   "execution_count": 1,
   "metadata": {},
   "outputs": [],
   "source": [
    "from sklearn.decomposition import PCA\n",
    "import pandas as pd\n",
    "import numpy as np"
   ]
  },
  {
   "cell_type": "code",
   "execution_count": 2,
   "metadata": {},
   "outputs": [
    {
     "data": {
      "text/plain": [
       "(569, 30)"
      ]
     },
     "execution_count": 2,
     "metadata": {},
     "output_type": "execute_result"
    }
   ],
   "source": [
    "data = pd.read_csv('../breast_cancer_m.csv')\n",
    "x = data.iloc[:, :-1]\n",
    "y = data['label']\n",
    "x.shape\n"
   ]
  },
  {
   "cell_type": "code",
   "execution_count": 7,
   "metadata": {},
   "outputs": [
    {
     "data": {
      "text/plain": [
       "array([[ 1.16014257e+03, -2.93917544e+02,  4.85783976e+01, ...,\n",
       "         3.47774671e-02,  6.50687182e-02, -1.29338753e-02],\n",
       "       [ 1.26912244e+03,  1.56301818e+01, -3.53945342e+01, ...,\n",
       "         4.54854950e-02, -5.53381981e-03,  2.13681481e-02],\n",
       "       [ 9.95793889e+02,  3.91567432e+01, -1.70975298e+00, ...,\n",
       "         8.35053346e-02,  2.48242077e-02, -2.68872618e-02],\n",
       "       ...,\n",
       "       [ 3.14501756e+02,  4.75535252e+01, -1.04424072e+01, ...,\n",
       "        -4.44838532e-03, -5.52852272e-02, -1.24589843e-02],\n",
       "       [ 1.12485812e+03,  3.41292250e+01, -1.97420874e+01, ...,\n",
       "         6.05612601e-02, -3.77419148e-02, -3.18733984e-02],\n",
       "       [-7.71527622e+02, -8.86431064e+01,  2.38890319e+01, ...,\n",
       "        -1.96669369e-02,  1.37339035e-02, -4.13415125e-03]])"
      ]
     },
     "execution_count": 7,
     "metadata": {},
     "output_type": "execute_result"
    }
   ],
   "source": [
    "dec_PCA=PCA(n_components=15)#降维成15个特征\n",
    "dec_x=dec_PCA.fit_transform(x,y)\n",
    "dec_x"
   ]
  },
  {
   "cell_type": "code",
   "execution_count": 8,
   "metadata": {},
   "outputs": [
    {
     "data": {
      "text/plain": [
       "(569, 15)"
      ]
     },
     "execution_count": 8,
     "metadata": {},
     "output_type": "execute_result"
    }
   ],
   "source": [
    "dec_x.shape"
   ]
  },
  {
   "cell_type": "code",
   "execution_count": 10,
   "metadata": {},
   "outputs": [
    {
     "data": {
      "text/plain": [
       "array([4.43782605e+05, 7.31010006e+03, 7.03833742e+02, 5.46487379e+01,\n",
       "       3.98900178e+01, 3.00458768e+00, 1.81533030e+00, 3.71466740e-01,\n",
       "       1.55513547e-01, 8.40612196e-02, 3.16089533e-02, 7.49736514e-03,\n",
       "       3.16165652e-03, 2.16150395e-03, 1.32653879e-03])"
      ]
     },
     "execution_count": 10,
     "metadata": {},
     "output_type": "execute_result"
    }
   ],
   "source": [
    "dec_PCA.explained_variance_#降维后每个特征的方差"
   ]
  },
  {
   "cell_type": "code",
   "execution_count": 11,
   "metadata": {},
   "outputs": [
    {
     "data": {
      "text/plain": [
       "array([9.82044672e-01, 1.61764899e-02, 1.55751075e-03, 1.20931964e-04,\n",
       "       8.82724536e-05, 6.64883951e-06, 4.01713682e-06, 8.22017197e-07,\n",
       "       3.44135279e-07, 1.86018721e-07, 6.99473205e-08, 1.65908880e-08,\n",
       "       6.99641650e-09, 4.78318306e-09, 2.93549214e-09])"
      ]
     },
     "execution_count": 11,
     "metadata": {},
     "output_type": "execute_result"
    }
   ],
   "source": [
    "dec_PCA.explained_variance_ratio_#降维后每个特征对结果的贡献比列"
   ]
  }
 ],
 "metadata": {
  "kernelspec": {
   "display_name": "Python 3",
   "language": "python",
   "name": "python3"
  },
  "language_info": {
   "codemirror_mode": {
    "name": "ipython",
    "version": 3
   },
   "file_extension": ".py",
   "mimetype": "text/x-python",
   "name": "python",
   "nbconvert_exporter": "python",
   "pygments_lexer": "ipython3",
   "version": "3.10.8"
  },
  "orig_nbformat": 4,
  "vscode": {
   "interpreter": {
    "hash": "aee8b7b246df8f9039afb4144a1f6fd8d2ca17a180786b69acc140d282b71a49"
   }
  }
 },
 "nbformat": 4,
 "nbformat_minor": 2
}
