{
 "cells": [
  {
   "cell_type": "code",
   "execution_count": null,
   "metadata": {},
   "outputs": [],
   "source": [
    "! pip3 install pydicom\n",
    "#一、文件信息修改"
   ]
  },
  {
   "cell_type": "code",
   "execution_count": 20,
   "metadata": {},
   "outputs": [
    {
     "data": {
      "text/plain": [
       "'/Users/chenyu/Desktop/Medical paper/test/data_dicom/1.dcm'"
      ]
     },
     "execution_count": 20,
     "metadata": {},
     "output_type": "execute_result"
    }
   ],
   "source": [
    "import pydicom\n",
    "import os\n",
    "\n",
    "dicomFolder='/Users/chenyu/Desktop/Medical paper/test/data_dicom'\n",
    "dicomFile=os.path.join(dicomFolder,'1.dcm')#合并文件路径\n",
    "dicomFile"
   ]
  },
  {
   "cell_type": "code",
   "execution_count": 21,
   "metadata": {},
   "outputs": [
    {
     "data": {
      "text/plain": [
       "Dataset.file_meta -------------------------------\n",
       "(0002, 0000) File Meta Information Group Length  UL: 198\n",
       "(0002, 0001) File Meta Information Version       OB: b'\\x00\\x01'\n",
       "(0002, 0002) Media Storage SOP Class UID         UI: Positron Emission Tomography Image Storage\n",
       "(0002, 0003) Media Storage SOP Instance UID      UI: 1.3.6.1.4.1.14519.5.2.1.7009.2401.264581068966524608390523682945\n",
       "(0002, 0010) Transfer Syntax UID                 UI: Explicit VR Little Endian\n",
       "(0002, 0012) Implementation Class UID            UI: 1.2.40.0.13.1.1.1\n",
       "(0002, 0013) Implementation Version Name         SH: 'dcm4che-1.4.35'\n",
       "-------------------------------------------------\n",
       "(0008, 0005) Specific Character Set              CS: 'ISO_IR 100'\n",
       "(0008, 0008) Image Type                          CS: ['ORIGINAL', 'PRIMARY']\n",
       "(0008, 0016) SOP Class UID                       UI: Positron Emission Tomography Image Storage\n",
       "(0008, 0018) SOP Instance UID                    UI: 1.3.6.1.4.1.14519.5.2.1.7009.2401.264581068966524608390523682945\n",
       "(0008, 0020) Study Date                          DA: '19600614'\n",
       "(0008, 0021) Series Date                         DA: '19600614'\n",
       "(0008, 0022) Acquisition Date                    DA: '19600614'\n",
       "(0008, 0023) Content Date                        DA: '19600614'\n",
       "(0008, 0030) Study Time                          TM: '145225.546000'\n",
       "(0008, 0031) Series Time                         TM: '152316.921000'\n",
       "(0008, 0032) Acquisition Time                    TM: '152316.921000'\n",
       "(0008, 0033) Content Time                        TM: '155425.000000'\n",
       "(0008, 0050) Accession Number                    SH: ''\n",
       "(0008, 0060) Modality                            CS: 'PT'\n",
       "(0008, 0070) Manufacturer                        LO: ''\n",
       "(0008, 0080) Institution Name                    LO: ''\n",
       "(0008, 0090) Referring Physician's Name          PN: 'REMOVED'\n",
       "(0008, 1010) Station Name                        SH: ''\n",
       "(0008, 1030) Study Description                   LO: 'PET-CT STUDY'\n",
       "(0008, 103e) Series Description                  LO: 'PET-CT SERIES'\n",
       "(0008, 1070) Operators' Name                     PN: 'REMOVED'\n",
       "(0008, 1090) Manufacturer's Model Name           LO: '1094'\n",
       "(0008, 1110)  Referenced Study Sequence  1 item(s) ---- \n",
       "   (0008, 1150) Referenced SOP Class UID            UI: Detached Study Management SOP Class\n",
       "   (0008, 1155) Referenced SOP Instance UID         UI: 1.3.6.1.4.1.14519.5.2.1.7009.2401.159730935440546850970630850452\n",
       "   ---------\n",
       "(0010, 0010) Patient's Name                      PN: 'ACRIN-FLT-Breast_029'\n",
       "(0010, 0020) Patient ID                          LO: 'ACRIN-FLT-Breast_029'\n",
       "(0010, 0030) Patient's Birth Date                DA: ''\n",
       "(0010, 0040) Patient's Sex                       CS: 'F'\n",
       "(0010, 1010) Patient's Age                       AS: '038Y'\n",
       "(0010, 1030) Patient's Weight                    DS: '69.7344'\n",
       "(0012, 0050) Clinical Trial Time Point ID        LO: '165'\n",
       "(0012, 0051) Clinical Trial Time Point Descripti ST: 'Days offset from diagnosis'\n",
       "(0012, 0062) Patient Identity Removed            CS: 'YES'\n",
       "(0012, 0063) De-identification Method            LO: 'Per DICOM PS 3.15 AnnexE. Details in 0012,0064'\n",
       "(0012, 0064)  De-identification Method Code Sequence  8 item(s) ---- \n",
       "   (0008, 0100) Code Value                          SH: '113100'\n",
       "   (0008, 0102) Coding Scheme Designator            SH: 'DCM'\n",
       "   (0008, 0104) Code Meaning                        LO: 'Basic Application Confidentiality Profile'\n",
       "   ---------\n",
       "   (0008, 0100) Code Value                          SH: '113101'\n",
       "   (0008, 0102) Coding Scheme Designator            SH: 'DCM'\n",
       "   (0008, 0104) Code Meaning                        LO: 'Clean Pixel Data Option'\n",
       "   ---------\n",
       "   (0008, 0100) Code Value                          SH: '113104'\n",
       "   (0008, 0102) Coding Scheme Designator            SH: 'DCM'\n",
       "   (0008, 0104) Code Meaning                        LO: 'Clean Structured Content Option'\n",
       "   ---------\n",
       "   (0008, 0100) Code Value                          SH: '113105'\n",
       "   (0008, 0102) Coding Scheme Designator            SH: 'DCM'\n",
       "   (0008, 0104) Code Meaning                        LO: 'Clean Descriptors Option'\n",
       "   ---------\n",
       "   (0008, 0100) Code Value                          SH: '113107'\n",
       "   (0008, 0102) Coding Scheme Designator            SH: 'DCM'\n",
       "   (0008, 0104) Code Meaning                        LO: 'Retain Longitudinal Temporal Information Modified Dates Option'\n",
       "   ---------\n",
       "   (0008, 0100) Code Value                          SH: '113108'\n",
       "   (0008, 0102) Coding Scheme Designator            SH: 'DCM'\n",
       "   (0008, 0104) Code Meaning                        LO: 'Retain Patient Characteristics Option'\n",
       "   ---------\n",
       "   (0008, 0100) Code Value                          SH: '113109'\n",
       "   (0008, 0102) Coding Scheme Designator            SH: 'DCM'\n",
       "   (0008, 0104) Code Meaning                        LO: 'Retain Device Identity Option'\n",
       "   ---------\n",
       "   (0008, 0100) Code Value                          SH: '113111'\n",
       "   (0008, 0102) Coding Scheme Designator            SH: 'DCM'\n",
       "   (0008, 0104) Code Meaning                        LO: 'Retain Safe Private Option'\n",
       "   ---------\n",
       "(0013, 0010) Private Creator                     LO: 'CTP'\n",
       "(0013, 1010) Private tag data                    LO: 'ACRIN-FLT-Breast'\n",
       "(0013, 1013) Private tag data                    LO: '70092401'\n",
       "(0018, 0015) Body Part Examined                  CS: 'BREAST'\n",
       "(0018, 0050) Slice Thickness                     DS: '5.0'\n",
       "(0018, 1000) Device Serial Number                LO: ''\n",
       "(0018, 1020) Software Versions                   LO: ''\n",
       "(0018, 1030) Protocol Name                       LO: ''\n",
       "(0018, 1181) Collimator Type                     CS: 'NONE'\n",
       "(0018, 1200) Date of Last Calibration            DS: None\n",
       "(0018, 1201) Time of Last Calibration            TM: ['072143.421000', '143236.000000']\n",
       "(0018, 1210) Convolution Kernel                  SH: 'XYZ Gauss6.00'\n",
       "(0018, 1242) Actual Frame Duration               IS: '300000'\n",
       "(0018, 5100) Patient Position                    CS: 'HFS'\n",
       "(0020, 000d) Study Instance UID                  UI: 1.3.6.1.4.1.14519.5.2.1.7009.2401.541147157881199293470020980360\n",
       "(0020, 000e) Series Instance UID                 UI: 1.3.6.1.4.1.14519.5.2.1.7009.2401.156320467167446933671661793694\n",
       "(0020, 0010) Study ID                            SH: '345678'\n",
       "(0020, 0011) Series Number                       IS: '102'\n",
       "(0020, 0012) Acquisition Number                  IS: '3001'\n",
       "(0020, 0013) Instance Number                     IS: '60'\n",
       "(0020, 0032) Image Position (Patient)            DS: [-342.11083849009, -528.74934994385, -278.5]\n",
       "(0020, 0037) Image Orientation (Patient)         DS: [1, 0, 0, 0, 1, 0]\n",
       "(0020, 0052) Frame of Reference UID              UI: 1.3.6.1.4.1.14519.5.2.1.7009.2401.228935706759277629960568279911\n",
       "(0020, 1040) Position Reference Indicator        LO: ''\n",
       "(0020, 1041) Slice Location                      DS: '-278.5'\n",
       "(0028, 0002) Samples per Pixel                   US: 1\n",
       "(0028, 0004) Photometric Interpretation          CS: 'MONOCHROME2'\n",
       "(0028, 0010) Rows                                US: 168\n",
       "(0028, 0011) Columns                             US: 168\n",
       "(0028, 0030) Pixel Spacing                       DS: [4.07283, 4.07283]\n",
       "(0028, 0051) Corrected Image                     CS: ['NORM', 'DTIM', 'ATTN', 'SCAT', 'RADL', 'DECY']\n",
       "(0028, 0100) Bits Allocated                      US: 16\n",
       "(0028, 0101) Bits Stored                         US: 16\n",
       "(0028, 0102) High Bit                            US: 15\n",
       "(0028, 0103) Pixel Representation                US: 1\n",
       "(0028, 0106) Smallest Image Pixel Value          SS: 0\n",
       "(0028, 0107) Largest Image Pixel Value           SS: 1327\n",
       "(0028, 0303) Longitudinal Temporal Information M CS: 'MODIFIED'\n",
       "(0028, 1050) Window Center                       DS: '30157.0'\n",
       "(0028, 1051) Window Width                        DS: '54282.0'\n",
       "(0028, 1052) Rescale Intercept                   DS: '0.0'\n",
       "(0028, 1053) Rescale Slope                       DS: '9.12329'\n",
       "(0028, 1054) Rescale Type                        LO: 'BQML'\n",
       "(0029, 0010) Private Creator                     LO: 'SIEMENS MEDCOM HEADER'\n",
       "(0032, 000a) Study Status ID                     CS: 'SCHEDULED'\n",
       "(0054, 0013)  Energy Window Range Sequence  1 item(s) ---- \n",
       "   (0054, 0014) Energy Window Lower Limit           DS: '435.0'\n",
       "   (0054, 0015) Energy Window Upper Limit           DS: '650.0'\n",
       "   ---------\n",
       "(0054, 0016)  Radiopharmaceutical Information Sequence  1 item(s) ---- \n",
       "   (0018, 1072) Radiopharmaceutical Start Time      TM: '141700.000000'\n",
       "   (0018, 1074) Radionuclide Total Dose             DS: '178340011.59668'\n",
       "   (0018, 1075) Radionuclide Half Life              DS: '6586.2'\n",
       "   (0018, 1076) Radionuclide Positron Fraction      DS: '0.97'\n",
       "   (0054, 0300)  Radionuclide Code Sequence  1 item(s) ---- \n",
       "      (0008, 0100) Code Value                          SH: 'C-111A1'\n",
       "      (0008, 0102) Coding Scheme Designator            SH: 'SNM3'\n",
       "      (0008, 0104) Code Meaning                        LO: 'F^18^[^18^Fluorine]'\n",
       "      (0008, 0105) Mapping Resource                    CS: 'DCMR'\n",
       "      (0008, 0106) Context Group Version               DT: '20020904000000.000000'\n",
       "      (0008, 010f) Context Identifier                  CS: '4020'\n",
       "      ---------\n",
       "   ---------\n",
       "(0054, 0081) Number of Slices                    US: 324\n",
       "(0054, 0410)  Patient Orientation Code Sequence  1 item(s) ---- \n",
       "   (0008, 0100) Code Value                          SH: 'F-10450'\n",
       "   (0008, 0102) Coding Scheme Designator            SH: '99SDM'\n",
       "   (0008, 0104) Code Meaning                        LO: 'recumbent'\n",
       "   (0008, 0105) Mapping Resource                    CS: 'DCMR'\n",
       "   (0008, 0106) Context Group Version               DT: '20020904000000.000000'\n",
       "   (0008, 010f) Context Identifier                  CS: '19'\n",
       "   (0054, 0412)  Patient Orientation Modifier Code Sequence  1 item(s) ---- \n",
       "      (0008, 0100) Code Value                          SH: 'F-10340'\n",
       "      (0008, 0102) Coding Scheme Designator            SH: '99SDM'\n",
       "      (0008, 0104) Code Meaning                        LO: 'supine'\n",
       "      (0008, 0105) Mapping Resource                    CS: 'DCMR'\n",
       "      (0008, 0106) Context Group Version               DT: '20020904000000.000000'\n",
       "      (0008, 010f) Context Identifier                  CS: '20'\n",
       "      ---------\n",
       "   ---------\n",
       "(0054, 0414)  Patient Gantry Relationship Code Sequence  1 item(s) ---- \n",
       "   (0008, 0100) Code Value                          SH: 'F-10470'\n",
       "   (0008, 0102) Coding Scheme Designator            SH: '99SDM'\n",
       "   (0008, 0104) Code Meaning                        LO: 'headfirst'\n",
       "   (0008, 0105) Mapping Resource                    CS: 'DCMR'\n",
       "   (0008, 0106) Context Group Version               DT: '20020904000000.000000'\n",
       "   (0008, 010f) Context Identifier                  CS: '21'\n",
       "   ---------\n",
       "(0054, 1000) Series Type                         CS: ['WHOLE BODY', 'IMAGE']\n",
       "(0054, 1001) Units                               CS: 'BQML'\n",
       "(0054, 1002) Counts Source                       CS: 'EMISSION'\n",
       "(0054, 1100) Randoms Correction Method           CS: 'DLYD'\n",
       "(0054, 1101) Attenuation Correction Method       LO: 'measured,AC_CT FLT'\n",
       "(0054, 1102) Decay Correction                    CS: 'START'\n",
       "(0054, 1103) Reconstruction Method               LO: 'OSEM2D 2i8s'\n",
       "(0054, 1105) Scatter Correction Method           LO: 'Model-based'\n",
       "(0054, 1200) Axial Acceptance                    DS: '38.0'\n",
       "(0054, 1201) Axial Mash                          IS: [5, 6]\n",
       "(0054, 1300) Frame Reference Time                DS: '149605.34445734'\n",
       "(0054, 1321) Decay Factor                        DS: '1.01587'\n",
       "(0054, 1322) Dose Calibration Factor             DS: '33833000.0'\n",
       "(0054, 1323) Scatter Fraction Factor             DS: '0.157274'\n",
       "(0054, 1330) Image Index                         US: 60\n",
       "(0088, 0140) Storage Media File-set UID          UI: 1.3.6.1.4.1.14519.5.2.1.7009.2401.348787687285331748265284803780\n",
       "(0088, 0200)  Icon Image Sequence  1 item(s) ---- \n",
       "   (0028, 0002) Samples per Pixel                   US: 1\n",
       "   (0028, 0004) Photometric Interpretation          CS: 'PALETTE COLOR'\n",
       "   (0028, 0010) Rows                                US: 64\n",
       "   (0028, 0011) Columns                             US: 64\n",
       "   (0028, 0100) Bits Allocated                      US: 8\n",
       "   (0028, 0101) Bits Stored                         US: 8\n",
       "   (0028, 0102) High Bit                            US: 7\n",
       "   (0028, 0103) Pixel Representation                US: 0\n",
       "   (0028, 1101) Red Palette Color Lookup Table Desc SS: [256, 0, 8]\n",
       "   (0028, 1102) Green Palette Color Lookup Table De SS: [256, 0, 8]\n",
       "   (0028, 1103) Blue Palette Color Lookup Table Des SS: [256, 0, 8]\n",
       "   (0028, 1201) Red Palette Color Lookup Table Data OW: Array of 256 elements\n",
       "   (0028, 1202) Green Palette Color Lookup Table Da OW: Array of 256 elements\n",
       "   (0028, 1203) Blue Palette Color Lookup Table Dat OW: Array of 256 elements\n",
       "   (7fe0, 0010) Pixel Data                          OW: Array of 4096 elements\n",
       "   ---------\n",
       "(7fe0, 0010) Pixel Data                          OW: Array of 56448 elements"
      ]
     },
     "execution_count": 21,
     "metadata": {},
     "output_type": "execute_result"
    }
   ],
   "source": [
    "ds=pydicom.dcmread(dicomFile) #读取dicom单文件\n",
    "ds"
   ]
  },
  {
   "cell_type": "code",
   "execution_count": 13,
   "metadata": {},
   "outputs": [
    {
     "data": {
      "text/plain": [
       "['AccessionNumber',\n",
       " 'AcquisitionDate',\n",
       " 'AcquisitionNumber',\n",
       " 'AcquisitionTime',\n",
       " 'ActualFrameDuration',\n",
       " 'AttenuationCorrectionMethod',\n",
       " 'AxialAcceptance',\n",
       " 'AxialMash',\n",
       " 'BitsAllocated',\n",
       " 'BitsStored',\n",
       " 'BodyPartExamined',\n",
       " 'ClinicalTrialTimePointDescription',\n",
       " 'ClinicalTrialTimePointID',\n",
       " 'CollimatorType',\n",
       " 'Columns',\n",
       " 'ContentDate',\n",
       " 'ContentTime',\n",
       " 'ConvolutionKernel',\n",
       " 'CorrectedImage',\n",
       " 'CountsSource',\n",
       " 'DateOfLastCalibration',\n",
       " 'DecayCorrection',\n",
       " 'DecayFactor',\n",
       " 'DeidentificationMethod',\n",
       " 'DeidentificationMethodCodeSequence',\n",
       " 'DeviceSerialNumber',\n",
       " 'DoseCalibrationFactor',\n",
       " 'EnergyWindowRangeSequence',\n",
       " 'FrameOfReferenceUID',\n",
       " 'FrameReferenceTime',\n",
       " 'HighBit',\n",
       " 'IconImageSequence',\n",
       " 'ImageIndex',\n",
       " 'ImageOrientationPatient',\n",
       " 'ImagePositionPatient',\n",
       " 'ImageType',\n",
       " 'InstanceNumber',\n",
       " 'InstitutionName',\n",
       " 'LargestImagePixelValue',\n",
       " 'LongitudinalTemporalInformationModified',\n",
       " 'Manufacturer',\n",
       " 'ManufacturerModelName',\n",
       " 'Modality',\n",
       " 'NumberOfSlices',\n",
       " 'OperatorsName',\n",
       " 'PatientAge',\n",
       " 'PatientBirthDate',\n",
       " 'PatientGantryRelationshipCodeSequence',\n",
       " 'PatientID',\n",
       " 'PatientIdentityRemoved',\n",
       " 'PatientName',\n",
       " 'PatientOrientationCodeSequence',\n",
       " 'PatientPosition',\n",
       " 'PatientSex',\n",
       " 'PatientWeight',\n",
       " 'PhotometricInterpretation',\n",
       " 'PixelData',\n",
       " 'PixelRepresentation',\n",
       " 'PixelSpacing',\n",
       " 'PositionReferenceIndicator',\n",
       " 'ProtocolName',\n",
       " 'RadiopharmaceuticalInformationSequence',\n",
       " 'RandomsCorrectionMethod',\n",
       " 'ReconstructionMethod',\n",
       " 'ReferencedStudySequence',\n",
       " 'ReferringPhysicianName',\n",
       " 'RescaleIntercept',\n",
       " 'RescaleSlope',\n",
       " 'RescaleType',\n",
       " 'Rows',\n",
       " 'SOPClassUID',\n",
       " 'SOPInstanceUID',\n",
       " 'SamplesPerPixel',\n",
       " 'ScatterCorrectionMethod',\n",
       " 'ScatterFractionFactor',\n",
       " 'SeriesDate',\n",
       " 'SeriesDescription',\n",
       " 'SeriesInstanceUID',\n",
       " 'SeriesNumber',\n",
       " 'SeriesTime',\n",
       " 'SeriesType',\n",
       " 'SliceLocation',\n",
       " 'SliceThickness',\n",
       " 'SmallestImagePixelValue',\n",
       " 'SoftwareVersions',\n",
       " 'SpecificCharacterSet',\n",
       " 'StationName',\n",
       " 'StorageMediaFileSetUID',\n",
       " 'StudyDate',\n",
       " 'StudyDescription',\n",
       " 'StudyID',\n",
       " 'StudyInstanceUID',\n",
       " 'StudyStatusID',\n",
       " 'StudyTime',\n",
       " 'TimeOfLastCalibration',\n",
       " 'Units',\n",
       " 'WindowCenter',\n",
       " 'WindowWidth']"
      ]
     },
     "execution_count": 13,
     "metadata": {},
     "output_type": "execute_result"
    }
   ],
   "source": [
    "ds.dir()#读出影像数据中可修改的标签信息"
   ]
  },
  {
   "cell_type": "code",
   "execution_count": 15,
   "metadata": {},
   "outputs": [
    {
     "data": {
      "text/plain": [
       "['.DS_Store', '5.dcm', '4.dcm', '1.dcm', '3.dcm', '2.dcm']"
      ]
     },
     "execution_count": 15,
     "metadata": {},
     "output_type": "execute_result"
    }
   ],
   "source": [
    "# 信息脱敏\n",
    "fileList=os.listdir(dicomFolder)#读取整个文件包里的文件名\n",
    "fileList"
   ]
  },
  {
   "cell_type": "code",
   "execution_count": 17,
   "metadata": {},
   "outputs": [],
   "source": [
    "folder_new='/Users/chenyu/Desktop/Medical paper/test/data_dicom_de' #定义脱敏后文件存储的路径\n",
    "if not os.path.exists(folder_new):#如果文件路径不存在 则新创建这个路径\n",
    "    os.makedirs(folder_new)\n",
    "for file in fileList:#遍历源文件取出单个文件名\n",
    "    filePath=os.path.join(dicomFolder,file)#取出单个文件路径\n",
    "    ds = pydicom.dcmread(filePath, force=True) #读取取出的那单个文件\n",
    "    ds.PatientName='XXX'#修改单个文件中的信息\n",
    "    ds.save_as(os.path.join(folder_new,file))#将单个文件存储到新的路径\n"
   ]
  },
  {
   "cell_type": "code",
   "execution_count": 1,
   "metadata": {},
   "outputs": [
    {
     "name": "stdout",
     "output_type": "stream",
     "text": [
      "Collecting SimpleITK\n",
      "  Downloading SimpleITK-2.2.1-cp310-cp310-macosx_10_9_x86_64.whl (45.5 MB)\n",
      "\u001b[2K     \u001b[90m━━━━━━━━━━━━━━━━━━━━━━━━━━━━━━━━━━━━━━━━\u001b[0m \u001b[32m45.5/45.5 MB\u001b[0m \u001b[31m95.5 kB/s\u001b[0m eta \u001b[36m0:00:00\u001b[0m00:01\u001b[0m00:09\u001b[0m\n",
      "\u001b[?25hInstalling collected packages: SimpleITK\n",
      "Successfully installed SimpleITK-2.2.1\n",
      "\n",
      "\u001b[1m[\u001b[0m\u001b[34;49mnotice\u001b[0m\u001b[1;39;49m]\u001b[0m\u001b[39;49m A new release of pip available: \u001b[0m\u001b[31;49m22.3.1\u001b[0m\u001b[39;49m -> \u001b[0m\u001b[32;49m23.0\u001b[0m\n",
      "\u001b[1m[\u001b[0m\u001b[34;49mnotice\u001b[0m\u001b[1;39;49m]\u001b[0m\u001b[39;49m To update, run: \u001b[0m\u001b[32;49mpython3.10 -m pip install --upgrade pip\u001b[0m\n"
     ]
    }
   ],
   "source": [
    "! pip3 install SimpleITK\n",
    "# 二、文件格式转换"
   ]
  },
  {
   "cell_type": "code",
   "execution_count": 12,
   "metadata": {},
   "outputs": [
    {
     "data": {
      "text/plain": [
       "('/Users/chenyu/Desktop/Medical paper/test/data_dicom_de/0003_0001_568370669.dcm',\n",
       " '/Users/chenyu/Desktop/Medical paper/test/data_dicom_de/0003_0002_568370683.dcm',\n",
       " '/Users/chenyu/Desktop/Medical paper/test/data_dicom_de/0003_0003_568370670.dcm',\n",
       " '/Users/chenyu/Desktop/Medical paper/test/data_dicom_de/0003_0004_568370684.dcm',\n",
       " '/Users/chenyu/Desktop/Medical paper/test/data_dicom_de/0003_0005_568370671.dcm',\n",
       " '/Users/chenyu/Desktop/Medical paper/test/data_dicom_de/0003_0006_568370685.dcm',\n",
       " '/Users/chenyu/Desktop/Medical paper/test/data_dicom_de/0003_0007_568370672.dcm',\n",
       " '/Users/chenyu/Desktop/Medical paper/test/data_dicom_de/0003_0008_568370686.dcm',\n",
       " '/Users/chenyu/Desktop/Medical paper/test/data_dicom_de/0003_0009_568370673.dcm',\n",
       " '/Users/chenyu/Desktop/Medical paper/test/data_dicom_de/0003_0010_568370687.dcm',\n",
       " '/Users/chenyu/Desktop/Medical paper/test/data_dicom_de/0003_0011_568370674.dcm',\n",
       " '/Users/chenyu/Desktop/Medical paper/test/data_dicom_de/0003_0012_568370688.dcm',\n",
       " '/Users/chenyu/Desktop/Medical paper/test/data_dicom_de/0003_0013_568370675.dcm',\n",
       " '/Users/chenyu/Desktop/Medical paper/test/data_dicom_de/0003_0014_568370689.dcm',\n",
       " '/Users/chenyu/Desktop/Medical paper/test/data_dicom_de/0003_0015_568370676.dcm',\n",
       " '/Users/chenyu/Desktop/Medical paper/test/data_dicom_de/0003_0016_568370690.dcm',\n",
       " '/Users/chenyu/Desktop/Medical paper/test/data_dicom_de/0003_0017_568370677.dcm',\n",
       " '/Users/chenyu/Desktop/Medical paper/test/data_dicom_de/0003_0018_568370691.dcm',\n",
       " '/Users/chenyu/Desktop/Medical paper/test/data_dicom_de/0003_0019_568370678.dcm',\n",
       " '/Users/chenyu/Desktop/Medical paper/test/data_dicom_de/0003_0020_568370692.dcm',\n",
       " '/Users/chenyu/Desktop/Medical paper/test/data_dicom_de/0003_0021_568370679.dcm',\n",
       " '/Users/chenyu/Desktop/Medical paper/test/data_dicom_de/0003_0022_568370693.dcm',\n",
       " '/Users/chenyu/Desktop/Medical paper/test/data_dicom_de/0003_0023_568370680.dcm',\n",
       " '/Users/chenyu/Desktop/Medical paper/test/data_dicom_de/0003_0024_568370694.dcm',\n",
       " '/Users/chenyu/Desktop/Medical paper/test/data_dicom_de/0003_0025_568370681.dcm',\n",
       " '/Users/chenyu/Desktop/Medical paper/test/data_dicom_de/0003_0026_568370695.dcm',\n",
       " '/Users/chenyu/Desktop/Medical paper/test/data_dicom_de/0003_0027_568370682.dcm',\n",
       " '/Users/chenyu/Desktop/Medical paper/test/data_dicom_de/0003_0028_568370696.dcm')"
      ]
     },
     "execution_count": 12,
     "metadata": {},
     "output_type": "execute_result"
    }
   ],
   "source": [
    "import SimpleITK as stik\n",
    "\n",
    "\n",
    "folderPath = '/Users/chenyu/Desktop/Medical paper/test/data_dicom_de'\n",
    "reader=stik.ImageSeriesReader() #实例SimpleITK\n",
    "dicom_names=reader.GetGDCMSeriesFileNames(folderPath)#读取文件路径\n",
    "dicom_names"
   ]
  },
  {
   "cell_type": "code",
   "execution_count": 15,
   "metadata": {},
   "outputs": [],
   "source": [
    "reader.SetFileNames(dicom_names)#将文件放入实例中\n",
    "image=reader.Execute()#执行实例\n",
    "stik.WriteImage(image,folderPath+'.nii')#修改格式写入文件夹中\n",
    "\n"
   ]
  },
  {
   "cell_type": "code",
   "execution_count": 17,
   "metadata": {},
   "outputs": [
    {
     "data": {
      "text/plain": [
       "((512, 512, 28),\n",
       " (-118.125, -143.04, -77.3507),\n",
       " (0.4688, 0.4688, 5.0),\n",
       " (1.0, 0.0, 0.0, 0.0, 1.0, 0.0, 0.0, 0.0, 1.0))"
      ]
     },
     "execution_count": 17,
     "metadata": {},
     "output_type": "execute_result"
    }
   ],
   "source": [
    "size=image.GetSize() # 顺序：x,y,z 获取图像尺寸\n",
    "orgin = image.GetOrigin()  # 顺序：x,y,z 获取图像原点\n",
    "spacing = image.GetSpacing()  # 顺序：x,y,z 获取图像间隔\n",
    "direction = image.GetDirection()  # 顺序：x,y,z 获取图像方向\n",
    "size,orgin,spacing,direction"
   ]
  },
  {
   "cell_type": "code",
   "execution_count": 23,
   "metadata": {},
   "outputs": [
    {
     "data": {
      "text/plain": [
       "(28, 512, 512)"
      ]
     },
     "execution_count": 23,
     "metadata": {},
     "output_type": "execute_result"
    }
   ],
   "source": [
    "imageArr=stik.GetArrayFromImage(image) #获取影像矩阵的顺序：z,y,x\n",
    "imageArr.shape"
   ]
  }
 ],
 "metadata": {
  "kernelspec": {
   "display_name": "Python 3",
   "language": "python",
   "name": "python3"
  },
  "language_info": {
   "codemirror_mode": {
    "name": "ipython",
    "version": 3
   },
   "file_extension": ".py",
   "mimetype": "text/x-python",
   "name": "python",
   "nbconvert_exporter": "python",
   "pygments_lexer": "ipython3",
   "version": "3.10.8"
  },
  "orig_nbformat": 4,
  "vscode": {
   "interpreter": {
    "hash": "aee8b7b246df8f9039afb4144a1f6fd8d2ca17a180786b69acc140d282b71a49"
   }
  }
 },
 "nbformat": 4,
 "nbformat_minor": 2
}
